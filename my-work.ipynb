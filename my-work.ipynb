{
 "cells": [
  {
   "cell_type": "code",
   "execution_count": 1,
   "id": "9572661d-e1bb-41a6-855a-5096c8c4d50e",
   "metadata": {},
   "outputs": [],
   "source": [
    "name = 'David'"
   ]
  },
  {
   "cell_type": "code",
   "execution_count": 2,
   "id": "06ea4fba-f049-436c-b2bf-a093fdadfa82",
   "metadata": {},
   "outputs": [
    {
     "name": "stdout",
     "output_type": "stream",
     "text": [
      "Hello! My name is David\n"
     ]
    }
   ],
   "source": [
    "print(f\"Hello! My name is {name}\")"
   ]
  },
  {
   "cell_type": "code",
   "execution_count": null,
   "id": "10687707-cf61-4ca4-9e2f-5b20bd0acd59",
   "metadata": {},
   "outputs": [],
   "source": []
  }
 ],
 "metadata": {
  "kernelspec": {
   "display_name": "Python 3 (ipykernel)",
   "language": "python",
   "name": "python3"
  },
  "language_info": {
   "codemirror_mode": {
    "name": "ipython",
    "version": 3
   },
   "file_extension": ".py",
   "mimetype": "text/x-python",
   "name": "python",
   "nbconvert_exporter": "python",
   "pygments_lexer": "ipython3",
   "version": "3.12.4"
  }
 },
 "nbformat": 4,
 "nbformat_minor": 5
}
